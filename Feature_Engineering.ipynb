{
  "nbformat": 4,
  "nbformat_minor": 0,
  "metadata": {
    "colab": {
      "provenance": []
    },
    "kernelspec": {
      "name": "python3",
      "display_name": "Python 3"
    },
    "language_info": {
      "name": "python"
    }
  },
  "cells": [
    {
      "cell_type": "code",
      "execution_count": null,
      "metadata": {
        "id": "iwEV2gFGWmoN"
      },
      "outputs": [],
      "source": []
    },
    {
      "cell_type": "markdown",
      "source": [
        "1. What is a parameter?\n",
        "-> A parameter is a numerical value that defines a population or a statistical distribution. It is a characteristic of the population, such as the mean or standard deviation.\n",
        "2. What is correlation?\n",
        "-> Correlation is a statistical measure that describes the relationship between two continuous variables. It measures how strongly the variables tend to change together.\n",
        "3. Define Machine Learning. What are the main components in Machine Learning?\n",
        "-> Machine Learning (ML) is a subfield of artificial intelligence that involves training algorithms to learn from data and make predictions or decisions without being explicitly programmed.\n",
        "4. How does loss value help in determining whether the model is good or not?\n",
        "-> The loss value helps in determining whether the model is good or not by providing a quantitative measure of the difference between the model's predictions and the actual true values. A lower loss value indicates better model performance.\n",
        "5. What are continuous and categorical variables?\n",
        "-> Continuous variables are numerical variables that can take any value within a range, such as height or weight. Categorical variables are variables that take on distinct categories or labels, such as color or gender.\n",
        "6. How do we handle categorical variables in Machine Learning? What are the common techniques ?\n",
        "-> Categorical variables are typically handled using techniques such as one-hot encoding, label encoding, and ordinal encoding.\n",
        "7. What do you mean by training and testing a dataset?\n",
        "-> Training a dataset involves using the data to adjust the model's parameters to minimize the loss function. Testing a dataset involves evaluating the trained model's performance on unseen data to estimate its generalization ability.\n",
        "8. What is sklearn.preprocessing?\n",
        "-> sklearn.preprocessing is a module in the scikit-learn library that provides various functions for data preprocessing, including scaling, normalization, and encoding categorical variables.\n",
        "9. What is a Test set?\n",
        "-> A test set is a portion of the dataset that is not used during training and is instead used to evaluate the trained model's performance.\n",
        "10. How do we split data for model fitting (training and testing) in Python?\n",
        "How do you approach a Machine Learning problem?\n",
        "-> Data can be split for model fitting using the train_test_split function from scikit-learn.\n",
        "i) To approach a Machine Learning problem, you should follow these steps:\n",
        "\n",
        "a. Problem definition: Define the problem and identify the goals.\n",
        "b. Data collection: Collect the relevant data.\n",
        "11. Why do we have to perform EDA before fitting a model to the data?\n",
        "-> We have to perform EDA before fitting a model to the data to:\n",
        "\n",
        "a. Understand the data distribution: EDA helps us understand the distribution of the data, including the central tendency, dispersion, and skewness.\n",
        "b. Identify relationships between variables: EDA helps us identify relationships between variables, including correlations and interactions.\n",
        "12. What is correlation?\n",
        "-> Correlation is a statistical measure that describes the relationship between two continuous variables. It measures how strongly the variables tend to change together.\n",
        "13. What does negative correlation mean?\n",
        "-> Negative correlation means that as one variable increases, the other variable tends to decrease.\n",
        "14. How can you find correlation between variables in Python?\n",
        "-> You can find correlation between variables in Python using the corr() function from pandas or the numpy.corrcoef() function from NumPy.\n",
        "15. What is causation? Explain difference between correlation and causation with an example.\n",
        "-> Causation refers to the relationship between two variables where one variable (the cause) directly affects the other variable (the effect).\n",
        "     explain it -\n",
        "Correlation does not imply causation. For example, there may be a correlation between the number of ice cream sales and the number of people wearing shorts, but this does not mean that eating ice cream causes people to wear shorts or vice versa. Instead, both variables may be influenced by a third variable, such as temperature.\n",
        "16. What is an Optimizer? What are different types of optimizers? Explain each with an example.\n",
        "-> An optimizer is an algorithm used to minimize or maximize a function, typically used in Machine Learning to optimize the model's parameters.\n",
        "\n",
        "Different types of optimizers include:\n",
        "a. Gradient Descent (GD): An iterative algorithm that adjusts the model's parameters to minimize the loss function.\n",
        "b. Stochastic Gradient Descent (SGD): A variant of GD that uses a random subset of the data to compute the gradient.\n",
        "17. What is sklearn.linear_model ?\n",
        "-> sklearn.linear_model is a module in the scikit-learn library that provides implementations of various linear models, including Linear Regression, Ridge Regression, Lasso Regression, and Elastic Net Regression.\n",
        "18. What does model.fit() do? What arguments must be given?\n",
        "-> a) model.fit() is a method in scikit-learn that trains a model on a given dataset.\n",
        "b) The arguments that must be given to model.fit() are:\n",
        "\n",
        "i. X: The feature matrix\n",
        "ii. y: The target vector\n",
        "19. What does model.predict() do? What arguments must be given?\n",
        "-> model.predict() is a method in scikit-learn that makes predictions on a given dataset using a trained model.\n",
        "The argument that must be given to model.predict() is:\n",
        "a. X: The feature matrix.\n",
        "20. What are continuous and categorical variables?\n",
        "Continuous variables are numerical variables that can take any value within a range, such as height or weight. Categorical variables are variables that take on distinct categories or labels, such as color or gender.\n",
        "21. What is feature scaling? How does it help in Machine Learning?\n",
        "-> Feature scaling is a technique used to normalize the features in a dataset by scaling them to a common range, usually between 0 and 1.\n",
        "  Feature scaling helps in Machine Learning by:\n",
        "a. Preventing feature dominance: Feature scaling prevents features with large ranges from dominating the model.\n",
        "b. Improving model convergence: Feature scaling can improve the convergence of the model by reducing the effect of feature scales on the gradient.\n",
        "22. How do we perform scaling in Python?\n",
        "-> We can perform scaling in Python using the StandardScaler class from scikit-learn:\n",
        "    from sklearn.preprocessing import StandardScaler\n",
        "scaler = StandardScaler()\n",
        "X_scaled = scaler.fit_transform(X)\n",
        "23. What is sklearn.preprocessing?\n",
        "-> sklearn.preprocessing is a module in the scikit-learn library that provides various functions for data preprocessing, including feature scaling, normalization, and encoding categorical variables.\n",
        "24. How do we split data for model fitting (training and testing) in Python?\n",
        "-> We can split data for model fitting using the train_test_split function from scikit-learn.\n",
        "25. Explain data encoding?\n",
        "-> Data encoding is the process of converting categorical variables into numerical variables that can be used by Machine Learning algorithms. Common techniques for data encoding include:\n",
        "a. One-hot encoding: Creating new binary variables for each category.\n",
        "b. Label encoding: Assigning numerical values to each category.\n",
        "c. Ordinal encoding: Assigning numerical values to each category, taking into account the ordinal relationship between categories.\n"
      ],
      "metadata": {
        "id": "W7ub-WwJWqT8"
      }
    }
  ]
}